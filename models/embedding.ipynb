{
 "cells": [
  {
   "cell_type": "code",
   "execution_count": 1,
   "id": "13f415df",
   "metadata": {},
   "outputs": [
    {
     "name": "stderr",
     "output_type": "stream",
     "text": [
      "/home/salsabiila/miniconda3/envs/ml_venv/lib/python3.12/site-packages/tqdm/auto.py:21: TqdmWarning: IProgress not found. Please update jupyter and ipywidgets. See https://ipywidgets.readthedocs.io/en/stable/user_install.html\n",
      "  from .autonotebook import tqdm as notebook_tqdm\n",
      "2025-05-31 17:05:44.859136: I tensorflow/core/util/port.cc:153] oneDNN custom operations are on. You may see slightly different numerical results due to floating-point round-off errors from different computation orders. To turn them off, set the environment variable `TF_ENABLE_ONEDNN_OPTS=0`.\n",
      "2025-05-31 17:05:45.108112: E external/local_xla/xla/stream_executor/cuda/cuda_fft.cc:467] Unable to register cuFFT factory: Attempting to register factory for plugin cuFFT when one has already been registered\n",
      "WARNING: All log messages before absl::InitializeLog() is called are written to STDERR\n",
      "E0000 00:00:1748685945.211500    1932 cuda_dnn.cc:8579] Unable to register cuDNN factory: Attempting to register factory for plugin cuDNN when one has already been registered\n",
      "E0000 00:00:1748685945.246247    1932 cuda_blas.cc:1407] Unable to register cuBLAS factory: Attempting to register factory for plugin cuBLAS when one has already been registered\n",
      "W0000 00:00:1748685945.481291    1932 computation_placer.cc:177] computation placer already registered. Please check linkage and avoid linking the same target more than once.\n",
      "W0000 00:00:1748685945.481370    1932 computation_placer.cc:177] computation placer already registered. Please check linkage and avoid linking the same target more than once.\n",
      "W0000 00:00:1748685945.481372    1932 computation_placer.cc:177] computation placer already registered. Please check linkage and avoid linking the same target more than once.\n",
      "W0000 00:00:1748685945.481374    1932 computation_placer.cc:177] computation placer already registered. Please check linkage and avoid linking the same target more than once.\n",
      "2025-05-31 17:05:45.512379: I tensorflow/core/platform/cpu_feature_guard.cc:210] This TensorFlow binary is optimized to use available CPU instructions in performance-critical operations.\n",
      "To enable the following instructions: AVX2 AVX512F AVX512_VNNI FMA, in other operations, rebuild TensorFlow with the appropriate compiler flags.\n"
     ]
    }
   ],
   "source": [
    "import pandas as pd\n",
    "from sentence_transformers import SentenceTransformer\n",
    "from sklearn.metrics.pairwise import cosine_similarity\n",
    "import numpy as np\n",
    "import os"
   ]
  },
  {
   "cell_type": "code",
   "execution_count": 7,
   "id": "ef24eb18",
   "metadata": {},
   "outputs": [],
   "source": [
    "CSV_SYMPTOMS_FILE_PATH = '../data/symptoms_1.csv'\n",
    "SYMPTOM_COLUMN_NAME = 'Description'\n",
    "OUTPUT_CSV_WITH_EMBEDDINGS_PATH = '../data/symptoms_1_with_embeddings.csv'\n",
    "\n",
    "MODEL_NAME = 'all-MiniLM-L6-v2'\n",
    "PRECOMPUTED_EMBEDDINGS_FILE = 'predefined_symptom_embeddings.npy'\n",
    "PREDEFINED_SYMPTOMS_LABELS_FILE = 'predefined_symptoms_labels.txt' "
   ]
  },
  {
   "cell_type": "code",
   "execution_count": 3,
   "id": "95bf3b22",
   "metadata": {},
   "outputs": [],
   "source": [
    "def load_symptoms_df_from_csv(csv_path):\n",
    "    try:\n",
    "        df = pd.read_csv(csv_path)\n",
    "        print(f\"Successfully loaded DataFrame from {csv_path}\")\n",
    "        return df\n",
    "    except FileNotFoundError:\n",
    "        raise FileNotFoundError(f\"Error: The CSV file '{csv_path}' was not found.\")\n",
    "    except Exception as e:\n",
    "        raise Exception(f\"An error occurred while reading the CSV '{csv_path}': {e}\")"
   ]
  },
  {
   "cell_type": "code",
   "execution_count": 4,
   "id": "6545cb54",
   "metadata": {},
   "outputs": [],
   "source": [
    "def setup_symptom_data_and_embeddings():\n",
    "    try:\n",
    "        print(\"--- Starting Symptom Data and Embedding Setup ---\")\n",
    "\n",
    "        symptoms_df = load_symptoms_df_from_csv(CSV_SYMPTOMS_FILE_PATH)\n",
    "        \n",
    "        if SYMPTOM_COLUMN_NAME not in symptoms_df.columns:\n",
    "            raise ValueError(\n",
    "                f\"Column '{SYMPTOM_COLUMN_NAME}' not found in CSV file {CSV_SYMPTOMS_FILE_PATH}. \"\n",
    "                f\"Available columns: {symptoms_df.columns.tolist()}\"\n",
    "            )\n",
    "        symptoms_list = symptoms_df[SYMPTOM_COLUMN_NAME].astype(str).tolist()\n",
    "        if not symptoms_list:\n",
    "            raise ValueError(f\"No symptoms found in column '{SYMPTOM_COLUMN_NAME}' of {CSV_SYMPTOMS_FILE_PATH}.\")\n",
    "        print(f\"Loaded {len(symptoms_list)} symptoms for embedding.\")\n",
    "\n",
    "        print(f\"Loading model: {MODEL_NAME}...\")\n",
    "        model = SentenceTransformer(MODEL_NAME)\n",
    "        print(\"Model loaded.\")\n",
    "\n",
    "        print(f\"Generating embeddings for {len(symptoms_list)} predefined symptoms...\")\n",
    "        symptom_embeddings_np = model.encode(symptoms_list, show_progress_bar=True)\n",
    "\n",
    "        np.save(PRECOMPUTED_EMBEDDINGS_FILE, symptom_embeddings_np)\n",
    "        print(f\"Predefined symptom embeddings saved to {PRECOMPUTED_EMBEDDINGS_FILE} (for mapper)\")\n",
    "\n",
    "        with open(PREDEFINED_SYMPTOMS_LABELS_FILE, 'w') as f:\n",
    "            for symptom in symptoms_list:\n",
    "                f.write(f\"{symptom}\\n\")\n",
    "        print(f\"Predefined symptom labels saved to {PREDEFINED_SYMPTOMS_LABELS_FILE} (for mapper)\")\n",
    "\n",
    "        symptoms_df['embedding'] = [str(embedding.tolist()) for embedding in symptom_embeddings_np]\n",
    "        \n",
    "        # embedding_df = pd.DataFrame(symptom_embeddings_np, columns=[f'embed_{i}' for i in range(symptom_embeddings_np.shape[1])])\n",
    "        # symptoms_df = pd.concat([symptoms_df, embedding_df], axis=1)\n",
    "\n",
    "        symptoms_df.to_csv(OUTPUT_CSV_WITH_EMBEDDINGS_PATH, index=False)\n",
    "        print(f\"DataFrame with embeddings saved to: {OUTPUT_CSV_WITH_EMBEDDINGS_PATH}\")\n",
    "\n",
    "        print(\"--- Symptom Data and Embedding Setup Complete ---\")\n",
    "\n",
    "    except Exception as e:\n",
    "        print(f\"Error during symptom data and embedding setup: {e}\")"
   ]
  },
  {
   "cell_type": "code",
   "execution_count": 5,
   "id": "a3075964",
   "metadata": {},
   "outputs": [],
   "source": [
    "class SymptomMapper:\n",
    "    def __init__(self, model_name_or_path, embeddings_path, labels_path):\n",
    "        print(f\"Loading model: {model_name_or_path} for the mapper...\")\n",
    "        self.model = SentenceTransformer(model_name_or_path)\n",
    "        print(\"Model loaded.\")\n",
    "\n",
    "        if not os.path.exists(embeddings_path) or not os.path.exists(labels_path):\n",
    "            raise FileNotFoundError(\n",
    "                f\"Embeddings file ({embeddings_path}) or labels file ({labels_path}) not found. \"\n",
    "                \"Ensure `setup_symptom_data_and_embeddings()` was run successfully.\"\n",
    "            )\n",
    "        print(f\"Loading precomputed symptom embeddings from {embeddings_path}...\")\n",
    "        self.predefined_symptom_embeddings = np.load(embeddings_path)\n",
    "        print(\"Precomputed embeddings loaded.\")\n",
    "\n",
    "        print(f\"Loading predefined symptom labels from {labels_path}...\")\n",
    "        with open(labels_path, 'r') as f:\n",
    "            self.predefined_symptoms = [line.strip() for line in f.readlines()]\n",
    "        print(\"Predefined symptom labels loaded.\")\n",
    "        print(f\"Mapper initialized with {len(self.predefined_symptoms)} predefined symptoms.\")\n",
    "\n",
    "    def map_symptoms(self, user_input_text, top_n=3, threshold=0.5):\n",
    "        if not user_input_text.strip():\n",
    "            return []\n",
    "        user_embedding = self.model.encode([user_input_text])\n",
    "        similarities = cosine_similarity(\n",
    "            user_embedding,\n",
    "            self.predefined_symptom_embeddings\n",
    "        )[0]\n",
    "        results = sorted(\n",
    "            [(self.predefined_symptoms[i], score) for i, score in enumerate(similarities)],\n",
    "            key=lambda x: x[1],\n",
    "            reverse=True\n",
    "        )\n",
    "        matched_symptoms = [\n",
    "            (symptom, float(score)) for symptom, score in results if score >= threshold\n",
    "        ][:top_n]\n",
    "        return matched_symptoms\n"
   ]
  },
  {
   "cell_type": "code",
   "execution_count": 8,
   "id": "94b1692a",
   "metadata": {},
   "outputs": [
    {
     "name": "stdout",
     "output_type": "stream",
     "text": [
      "--- Starting Symptom Data and Embedding Setup ---\n",
      "Successfully loaded DataFrame from ../data/symptoms_1.csv\n",
      "Loaded 837 symptoms for embedding.\n",
      "Loading model: all-MiniLM-L6-v2...\n",
      "Model loaded.\n",
      "Generating embeddings for 837 predefined symptoms...\n"
     ]
    },
    {
     "name": "stderr",
     "output_type": "stream",
     "text": [
      "Batches: 100%|██████████| 27/27 [00:01<00:00, 19.83it/s]\n"
     ]
    },
    {
     "name": "stdout",
     "output_type": "stream",
     "text": [
      "Predefined symptom embeddings saved to predefined_symptom_embeddings.npy (for mapper)\n",
      "Predefined symptom labels saved to predefined_symptoms_labels.txt (for mapper)\n",
      "DataFrame with embeddings saved to: ../data/symptoms_1_with_embeddings.csv\n",
      "--- Symptom Data and Embedding Setup Complete ---\n",
      "Loading model: all-MiniLM-L6-v2 for the mapper...\n",
      "Model loaded.\n",
      "Loading precomputed symptom embeddings from predefined_symptom_embeddings.npy...\n",
      "Precomputed embeddings loaded.\n",
      "Loading predefined symptom labels from predefined_symptoms_labels.txt...\n",
      "Predefined symptom labels loaded.\n",
      "Mapper initialized with 837 predefined symptoms.\n",
      "\n",
      "For input: 'I have a terrible headache and I'm feeling feverish.'\n",
      "- Headache behind the eyes (typically during fever) (Score: 0.6642)\n",
      "- fever (Score: 0.6497)\n",
      "- Fever with chills and sweating (Score: 0.6205)\n",
      "\n",
      "For input: 'my stomach feels upset and i might throw up'\n",
      "- Nausea and vomiting (Score: 0.6961)\n",
      "- Vomiting (Score: 0.6379)\n"
     ]
    }
   ],
   "source": [
    "setup_symptom_data_and_embeddings()\n",
    "\n",
    "if os.path.exists(PRECOMPUTED_EMBEDDINGS_FILE) and os.path.exists(PREDEFINED_SYMPTOMS_LABELS_FILE):\n",
    "    try:\n",
    "        mapper = SymptomMapper(\n",
    "            model_name_or_path=MODEL_NAME,\n",
    "            embeddings_path=PRECOMPUTED_EMBEDDINGS_FILE,\n",
    "            labels_path=PREDEFINED_SYMPTOMS_LABELS_FILE\n",
    "        )\n",
    "\n",
    "        user_query1 = \"I have a terrible headache and I'm feeling feverish.\"\n",
    "        matches1 = mapper.map_symptoms(user_query1, top_n=3, threshold=0.3)\n",
    "        print(f\"\\nFor input: '{user_query1}'\")\n",
    "        if matches1:\n",
    "            for symptom, score in matches1:\n",
    "                print(f\"- {symptom} (Score: {score:.4f})\")\n",
    "        else:\n",
    "            print(\"No significant symptoms mapped.\")\n",
    "\n",
    "        user_query2 = \"my stomach feels upset and i might throw up\"\n",
    "        matches2 = mapper.map_symptoms(user_query2, top_n=2, threshold=0.4)\n",
    "        print(f\"\\nFor input: '{user_query2}'\")\n",
    "        if matches2:\n",
    "            for symptom, score in matches2:\n",
    "                print(f\"- {symptom} (Score: {score:.4f})\")\n",
    "        else:\n",
    "            print(\"No significant symptoms mapped.\")\n",
    "\n",
    "    except FileNotFoundError as e:\n",
    "        print(f\"Error initializing SymptomMapper: {e}\")\n",
    "        print(\"Please ensure `setup_symptom_data_and_embeddings()` ran successfully.\")\n",
    "    except Exception as e:\n",
    "        print(f\"An unexpected error occurred during SymptomMapper usage: {e}\")\n",
    "else:\n",
    "    print(\"Critical error: Embeddings or labels file missing. Cannot initialize SymptomMapper.\")"
   ]
  },
  {
   "cell_type": "code",
   "execution_count": null,
   "id": "332b4ad3",
   "metadata": {},
   "outputs": [],
   "source": []
  }
 ],
 "metadata": {
  "kernelspec": {
   "display_name": "ml_venv",
   "language": "python",
   "name": "python3"
  },
  "language_info": {
   "codemirror_mode": {
    "name": "ipython",
    "version": 3
   },
   "file_extension": ".py",
   "mimetype": "text/x-python",
   "name": "python",
   "nbconvert_exporter": "python",
   "pygments_lexer": "ipython3",
   "version": "3.12.0"
  }
 },
 "nbformat": 4,
 "nbformat_minor": 5
}
