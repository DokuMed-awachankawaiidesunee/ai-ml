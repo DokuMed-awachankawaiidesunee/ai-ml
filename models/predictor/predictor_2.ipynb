{
 "cells": [
  {
   "cell_type": "code",
   "execution_count": 17,
   "id": "fcdd140b",
   "metadata": {},
   "outputs": [],
   "source": [
    "import pandas as pd\n",
    "import numpy as np\n",
    "import tensorflow as tf\n",
    "from tensorflow.keras.models import Sequential\n",
    "from tensorflow.keras.layers import Bidirectional, LSTM, Dense\n",
    "from sklearn.preprocessing import MinMaxScaler\n",
    "from datetime import datetime"
   ]
  },
  {
   "cell_type": "code",
   "execution_count": 2,
   "id": "2c548420",
   "metadata": {},
   "outputs": [
    {
     "name": "stdout",
     "output_type": "stream",
     "text": [
      "GPU detected: [PhysicalDevice(name='/physical_device:GPU:0', device_type='GPU')]\n"
     ]
    }
   ],
   "source": [
    "gpus = tf.config.list_physical_devices('GPU')\n",
    "if gpus:\n",
    "    try:\n",
    "        for gpu in gpus:\n",
    "            tf.config.experimental.set_memory_growth(gpu, True)\n",
    "        print(f\"GPU detected: {gpus}\")\n",
    "    except RuntimeError as e:\n",
    "        print(f\"Error setting GPU memory growth: {e}\")\n",
    "else:\n",
    "    print(\"No GPU detected, training will run on CPU.\")"
   ]
  },
  {
   "cell_type": "code",
   "execution_count": 7,
   "id": "d8cb6390",
   "metadata": {},
   "outputs": [],
   "source": [
    "file_path = '../data/medicine_stocks.csv'\n",
    "df = pd.read_csv(file_path)"
   ]
  },
  {
   "cell_type": "code",
   "execution_count": 9,
   "id": "465b5234",
   "metadata": {},
   "outputs": [
    {
     "data": {
      "text/html": [
       "<div>\n",
       "<style scoped>\n",
       "    .dataframe tbody tr th:only-of-type {\n",
       "        vertical-align: middle;\n",
       "    }\n",
       "\n",
       "    .dataframe tbody tr th {\n",
       "        vertical-align: top;\n",
       "    }\n",
       "\n",
       "    .dataframe thead th {\n",
       "        text-align: right;\n",
       "    }\n",
       "</style>\n",
       "<table border=\"1\" class=\"dataframe\">\n",
       "  <thead>\n",
       "    <tr style=\"text-align: right;\">\n",
       "      <th></th>\n",
       "      <th>id_hospital</th>\n",
       "      <th>id_medicine</th>\n",
       "      <th>input_year</th>\n",
       "      <th>input_month</th>\n",
       "      <th>min_stock</th>\n",
       "      <th>max_stock</th>\n",
       "      <th>current_stock</th>\n",
       "      <th>usage_qty</th>\n",
       "      <th>order_qty</th>\n",
       "      <th>order_date</th>\n",
       "      <th>lead_time</th>\n",
       "      <th>date</th>\n",
       "    </tr>\n",
       "  </thead>\n",
       "  <tbody>\n",
       "    <tr>\n",
       "      <th>0</th>\n",
       "      <td>1</td>\n",
       "      <td>1</td>\n",
       "      <td>2020</td>\n",
       "      <td>1</td>\n",
       "      <td>600</td>\n",
       "      <td>3500</td>\n",
       "      <td>2482</td>\n",
       "      <td>1018</td>\n",
       "      <td>0</td>\n",
       "      <td>2020-01-31</td>\n",
       "      <td>0</td>\n",
       "      <td>2020-01-01</td>\n",
       "    </tr>\n",
       "    <tr>\n",
       "      <th>1</th>\n",
       "      <td>1</td>\n",
       "      <td>1</td>\n",
       "      <td>2020</td>\n",
       "      <td>2</td>\n",
       "      <td>600</td>\n",
       "      <td>3500</td>\n",
       "      <td>1330</td>\n",
       "      <td>1152</td>\n",
       "      <td>0</td>\n",
       "      <td>2020-02-29</td>\n",
       "      <td>0</td>\n",
       "      <td>2020-02-01</td>\n",
       "    </tr>\n",
       "    <tr>\n",
       "      <th>2</th>\n",
       "      <td>1</td>\n",
       "      <td>1</td>\n",
       "      <td>2020</td>\n",
       "      <td>3</td>\n",
       "      <td>600</td>\n",
       "      <td>3500</td>\n",
       "      <td>3500</td>\n",
       "      <td>1235</td>\n",
       "      <td>3405</td>\n",
       "      <td>2020-03-05</td>\n",
       "      <td>7</td>\n",
       "      <td>2020-03-01</td>\n",
       "    </tr>\n",
       "    <tr>\n",
       "      <th>3</th>\n",
       "      <td>1</td>\n",
       "      <td>1</td>\n",
       "      <td>2020</td>\n",
       "      <td>4</td>\n",
       "      <td>600</td>\n",
       "      <td>3500</td>\n",
       "      <td>2192</td>\n",
       "      <td>1308</td>\n",
       "      <td>0</td>\n",
       "      <td>2020-04-30</td>\n",
       "      <td>0</td>\n",
       "      <td>2020-04-01</td>\n",
       "    </tr>\n",
       "    <tr>\n",
       "      <th>4</th>\n",
       "      <td>1</td>\n",
       "      <td>1</td>\n",
       "      <td>2020</td>\n",
       "      <td>5</td>\n",
       "      <td>600</td>\n",
       "      <td>3500</td>\n",
       "      <td>1029</td>\n",
       "      <td>1163</td>\n",
       "      <td>0</td>\n",
       "      <td>2020-05-31</td>\n",
       "      <td>0</td>\n",
       "      <td>2020-05-01</td>\n",
       "    </tr>\n",
       "  </tbody>\n",
       "</table>\n",
       "</div>"
      ],
      "text/plain": [
       "   id_hospital  id_medicine  input_year  input_month  min_stock  max_stock  \\\n",
       "0            1            1        2020            1        600       3500   \n",
       "1            1            1        2020            2        600       3500   \n",
       "2            1            1        2020            3        600       3500   \n",
       "3            1            1        2020            4        600       3500   \n",
       "4            1            1        2020            5        600       3500   \n",
       "\n",
       "   current_stock  usage_qty  order_qty  order_date  lead_time       date  \n",
       "0           2482       1018          0  2020-01-31          0 2020-01-01  \n",
       "1           1330       1152          0  2020-02-29          0 2020-02-01  \n",
       "2           3500       1235       3405  2020-03-05          7 2020-03-01  \n",
       "3           2192       1308          0  2020-04-30          0 2020-04-01  \n",
       "4           1029       1163          0  2020-05-31          0 2020-05-01  "
      ]
     },
     "execution_count": 9,
     "metadata": {},
     "output_type": "execute_result"
    }
   ],
   "source": [
    "df.head()"
   ]
  },
  {
   "cell_type": "code",
   "execution_count": 8,
   "id": "55332b0b",
   "metadata": {},
   "outputs": [],
   "source": [
    "df['date'] = pd.to_datetime(df['input_year'].astype(str) + '-' +\n",
    "                            df['input_month'].astype(str) + '-01')\n",
    "df.sort_values(['id_medicine', 'date'], inplace=True)"
   ]
  },
  {
   "cell_type": "code",
   "execution_count": 10,
   "id": "acd30e39",
   "metadata": {},
   "outputs": [],
   "source": [
    "med_id = 1\n",
    "df_med = df[df['id_medicine'] == med_id].copy()"
   ]
  },
  {
   "cell_type": "code",
   "execution_count": 11,
   "id": "2bd50cbd",
   "metadata": {},
   "outputs": [],
   "source": [
    "series = df_med[['date', 'usage_qty']].set_index('date')"
   ]
  },
  {
   "cell_type": "code",
   "execution_count": 12,
   "id": "c8114635",
   "metadata": {},
   "outputs": [],
   "source": [
    "scaler = MinMaxScaler(feature_range=(0, 1))\n",
    "series['usage_scaled'] = scaler.fit_transform(series[['usage_qty']])"
   ]
  },
  {
   "cell_type": "code",
   "execution_count": 13,
   "id": "c22f8482",
   "metadata": {},
   "outputs": [],
   "source": [
    "def create_sequences(data_array, window_size=12):\n",
    "    X, y = [], []\n",
    "    for i in range(len(data_array) - window_size):\n",
    "        X.append(data_array[i : i + window_size])\n",
    "        y.append(data_array[i + window_size])\n",
    "    X = np.array(X)\n",
    "    y = np.array(y)\n",
    "    return X.reshape((X.shape[0], X.shape[1], 1)), y.reshape(-1, 1)"
   ]
  },
  {
   "cell_type": "code",
   "execution_count": 14,
   "id": "57140631",
   "metadata": {},
   "outputs": [],
   "source": [
    "values = series['usage_scaled'].values\n",
    "WINDOW_SIZE = 12\n",
    "X, y = create_sequences(values, WINDOW_SIZE)"
   ]
  },
  {
   "cell_type": "code",
   "execution_count": 15,
   "id": "37768d69",
   "metadata": {},
   "outputs": [
    {
     "name": "stdout",
     "output_type": "stream",
     "text": [
      "Total samples: 48\n",
      "  -> Train samples: 38\n",
      "  -> Test samples:  10\n"
     ]
    }
   ],
   "source": [
    "split_idx = int(len(X) * 0.8)\n",
    "X_train, X_test = X[:split_idx], X[split_idx:]\n",
    "y_train, y_test = y[:split_idx], y[split_idx:]\n",
    "\n",
    "print(f\"Total samples: {len(X)}\")\n",
    "print(f\"  -> Train samples: {len(X_train)}\")\n",
    "print(f\"  -> Test samples:  {len(X_test)}\")"
   ]
  },
  {
   "cell_type": "code",
   "execution_count": 18,
   "id": "8eda2ac8",
   "metadata": {},
   "outputs": [
    {
     "name": "stderr",
     "output_type": "stream",
     "text": [
      "/home/salsabiila/miniconda3/envs/ml_venv/lib/python3.12/site-packages/keras/src/layers/rnn/bidirectional.py:107: UserWarning: Do not pass an `input_shape`/`input_dim` argument to a layer. When using Sequential models, prefer using an `Input(shape)` object as the first layer in the model instead.\n",
      "  super().__init__(**kwargs)\n"
     ]
    },
    {
     "data": {
      "text/html": [
       "<pre style=\"white-space:pre;overflow-x:auto;line-height:normal;font-family:Menlo,'DejaVu Sans Mono',consolas,'Courier New',monospace\"><span style=\"font-weight: bold\">Model: \"sequential_1\"</span>\n",
       "</pre>\n"
      ],
      "text/plain": [
       "\u001b[1mModel: \"sequential_1\"\u001b[0m\n"
      ]
     },
     "metadata": {},
     "output_type": "display_data"
    },
    {
     "data": {
      "text/html": [
       "<pre style=\"white-space:pre;overflow-x:auto;line-height:normal;font-family:Menlo,'DejaVu Sans Mono',consolas,'Courier New',monospace\">┏━━━━━━━━━━━━━━━━━━━━━━━━━━━━━━━━━┳━━━━━━━━━━━━━━━━━━━━━━━━┳━━━━━━━━━━━━━━━┓\n",
       "┃<span style=\"font-weight: bold\"> Layer (type)                    </span>┃<span style=\"font-weight: bold\"> Output Shape           </span>┃<span style=\"font-weight: bold\">       Param # </span>┃\n",
       "┡━━━━━━━━━━━━━━━━━━━━━━━━━━━━━━━━━╇━━━━━━━━━━━━━━━━━━━━━━━━╇━━━━━━━━━━━━━━━┩\n",
       "│ bidirectional (<span style=\"color: #0087ff; text-decoration-color: #0087ff\">Bidirectional</span>)   │ (<span style=\"color: #00d7ff; text-decoration-color: #00d7ff\">None</span>, <span style=\"color: #00af00; text-decoration-color: #00af00\">100</span>)            │        <span style=\"color: #00af00; text-decoration-color: #00af00\">20,800</span> │\n",
       "├─────────────────────────────────┼────────────────────────┼───────────────┤\n",
       "│ dense_1 (<span style=\"color: #0087ff; text-decoration-color: #0087ff\">Dense</span>)                 │ (<span style=\"color: #00d7ff; text-decoration-color: #00d7ff\">None</span>, <span style=\"color: #00af00; text-decoration-color: #00af00\">1</span>)              │           <span style=\"color: #00af00; text-decoration-color: #00af00\">101</span> │\n",
       "└─────────────────────────────────┴────────────────────────┴───────────────┘\n",
       "</pre>\n"
      ],
      "text/plain": [
       "┏━━━━━━━━━━━━━━━━━━━━━━━━━━━━━━━━━┳━━━━━━━━━━━━━━━━━━━━━━━━┳━━━━━━━━━━━━━━━┓\n",
       "┃\u001b[1m \u001b[0m\u001b[1mLayer (type)                   \u001b[0m\u001b[1m \u001b[0m┃\u001b[1m \u001b[0m\u001b[1mOutput Shape          \u001b[0m\u001b[1m \u001b[0m┃\u001b[1m \u001b[0m\u001b[1m      Param #\u001b[0m\u001b[1m \u001b[0m┃\n",
       "┡━━━━━━━━━━━━━━━━━━━━━━━━━━━━━━━━━╇━━━━━━━━━━━━━━━━━━━━━━━━╇━━━━━━━━━━━━━━━┩\n",
       "│ bidirectional (\u001b[38;5;33mBidirectional\u001b[0m)   │ (\u001b[38;5;45mNone\u001b[0m, \u001b[38;5;34m100\u001b[0m)            │        \u001b[38;5;34m20,800\u001b[0m │\n",
       "├─────────────────────────────────┼────────────────────────┼───────────────┤\n",
       "│ dense_1 (\u001b[38;5;33mDense\u001b[0m)                 │ (\u001b[38;5;45mNone\u001b[0m, \u001b[38;5;34m1\u001b[0m)              │           \u001b[38;5;34m101\u001b[0m │\n",
       "└─────────────────────────────────┴────────────────────────┴───────────────┘\n"
      ]
     },
     "metadata": {},
     "output_type": "display_data"
    },
    {
     "data": {
      "text/html": [
       "<pre style=\"white-space:pre;overflow-x:auto;line-height:normal;font-family:Menlo,'DejaVu Sans Mono',consolas,'Courier New',monospace\"><span style=\"font-weight: bold\"> Total params: </span><span style=\"color: #00af00; text-decoration-color: #00af00\">20,901</span> (81.64 KB)\n",
       "</pre>\n"
      ],
      "text/plain": [
       "\u001b[1m Total params: \u001b[0m\u001b[38;5;34m20,901\u001b[0m (81.64 KB)\n"
      ]
     },
     "metadata": {},
     "output_type": "display_data"
    },
    {
     "data": {
      "text/html": [
       "<pre style=\"white-space:pre;overflow-x:auto;line-height:normal;font-family:Menlo,'DejaVu Sans Mono',consolas,'Courier New',monospace\"><span style=\"font-weight: bold\"> Trainable params: </span><span style=\"color: #00af00; text-decoration-color: #00af00\">20,901</span> (81.64 KB)\n",
       "</pre>\n"
      ],
      "text/plain": [
       "\u001b[1m Trainable params: \u001b[0m\u001b[38;5;34m20,901\u001b[0m (81.64 KB)\n"
      ]
     },
     "metadata": {},
     "output_type": "display_data"
    },
    {
     "data": {
      "text/html": [
       "<pre style=\"white-space:pre;overflow-x:auto;line-height:normal;font-family:Menlo,'DejaVu Sans Mono',consolas,'Courier New',monospace\"><span style=\"font-weight: bold\"> Non-trainable params: </span><span style=\"color: #00af00; text-decoration-color: #00af00\">0</span> (0.00 B)\n",
       "</pre>\n"
      ],
      "text/plain": [
       "\u001b[1m Non-trainable params: \u001b[0m\u001b[38;5;34m0\u001b[0m (0.00 B)\n"
      ]
     },
     "metadata": {},
     "output_type": "display_data"
    }
   ],
   "source": [
    "model = Sequential([\n",
    "    Bidirectional(LSTM(50, return_sequences=False), input_shape=(WINDOW_SIZE, 1)),\n",
    "    Dense(1, activation='linear')\n",
    "])\n",
    "\n",
    "model.compile(\n",
    "    optimizer='adam',\n",
    "    loss='mean_squared_error',\n",
    "    metrics=['mean_absolute_error']\n",
    ")\n",
    "\n",
    "model.summary()"
   ]
  },
  {
   "cell_type": "code",
   "execution_count": 19,
   "id": "9262dd5e",
   "metadata": {},
   "outputs": [],
   "source": [
    "EPOCHS = 50\n",
    "BATCH_SIZE = 8"
   ]
  },
  {
   "cell_type": "code",
   "execution_count": 20,
   "id": "e1012420",
   "metadata": {},
   "outputs": [
    {
     "name": "stdout",
     "output_type": "stream",
     "text": [
      "Epoch 1/50\n"
     ]
    },
    {
     "name": "stderr",
     "output_type": "stream",
     "text": [
      "I0000 00:00:1748684276.784540  258762 cuda_dnn.cc:529] Loaded cuDNN version 90501\n"
     ]
    },
    {
     "name": "stdout",
     "output_type": "stream",
     "text": [
      "5/5 - 5s - 913ms/step - loss: 0.2805 - mean_absolute_error: 0.4350 - val_loss: 0.1656 - val_mean_absolute_error: 0.3213\n",
      "Epoch 2/50\n",
      "5/5 - 0s - 51ms/step - loss: 0.1398 - mean_absolute_error: 0.3019 - val_loss: 0.0809 - val_mean_absolute_error: 0.2482\n",
      "Epoch 3/50\n",
      "5/5 - 0s - 42ms/step - loss: 0.0940 - mean_absolute_error: 0.2565 - val_loss: 0.0752 - val_mean_absolute_error: 0.2502\n",
      "Epoch 4/50\n",
      "5/5 - 0s - 47ms/step - loss: 0.1054 - mean_absolute_error: 0.2775 - val_loss: 0.0736 - val_mean_absolute_error: 0.2474\n",
      "Epoch 5/50\n",
      "5/5 - 0s - 39ms/step - loss: 0.0936 - mean_absolute_error: 0.2597 - val_loss: 0.0649 - val_mean_absolute_error: 0.2252\n",
      "Epoch 6/50\n",
      "5/5 - 0s - 35ms/step - loss: 0.0832 - mean_absolute_error: 0.2475 - val_loss: 0.0644 - val_mean_absolute_error: 0.2249\n",
      "Epoch 7/50\n",
      "5/5 - 0s - 37ms/step - loss: 0.0821 - mean_absolute_error: 0.2422 - val_loss: 0.0654 - val_mean_absolute_error: 0.2241\n",
      "Epoch 8/50\n",
      "5/5 - 0s - 48ms/step - loss: 0.0803 - mean_absolute_error: 0.2387 - val_loss: 0.0625 - val_mean_absolute_error: 0.2192\n",
      "Epoch 9/50\n",
      "5/5 - 0s - 61ms/step - loss: 0.0770 - mean_absolute_error: 0.2345 - val_loss: 0.0565 - val_mean_absolute_error: 0.2107\n",
      "Epoch 10/50\n",
      "5/5 - 0s - 42ms/step - loss: 0.0722 - mean_absolute_error: 0.2282 - val_loss: 0.0523 - val_mean_absolute_error: 0.2035\n",
      "Epoch 11/50\n",
      "5/5 - 0s - 43ms/step - loss: 0.0694 - mean_absolute_error: 0.2241 - val_loss: 0.0481 - val_mean_absolute_error: 0.1947\n",
      "Epoch 12/50\n",
      "5/5 - 0s - 39ms/step - loss: 0.0675 - mean_absolute_error: 0.2230 - val_loss: 0.0452 - val_mean_absolute_error: 0.1893\n",
      "Epoch 13/50\n",
      "5/5 - 0s - 39ms/step - loss: 0.0652 - mean_absolute_error: 0.2185 - val_loss: 0.0426 - val_mean_absolute_error: 0.1838\n",
      "Epoch 14/50\n",
      "5/5 - 0s - 71ms/step - loss: 0.0622 - mean_absolute_error: 0.2123 - val_loss: 0.0410 - val_mean_absolute_error: 0.1811\n",
      "Epoch 15/50\n",
      "5/5 - 0s - 46ms/step - loss: 0.0587 - mean_absolute_error: 0.2065 - val_loss: 0.0394 - val_mean_absolute_error: 0.1770\n",
      "Epoch 16/50\n",
      "5/5 - 0s - 39ms/step - loss: 0.0575 - mean_absolute_error: 0.2035 - val_loss: 0.0383 - val_mean_absolute_error: 0.1731\n",
      "Epoch 17/50\n",
      "5/5 - 0s - 33ms/step - loss: 0.0535 - mean_absolute_error: 0.1961 - val_loss: 0.0333 - val_mean_absolute_error: 0.1632\n",
      "Epoch 18/50\n",
      "5/5 - 0s - 38ms/step - loss: 0.0504 - mean_absolute_error: 0.1910 - val_loss: 0.0294 - val_mean_absolute_error: 0.1534\n",
      "Epoch 19/50\n",
      "5/5 - 0s - 33ms/step - loss: 0.0472 - mean_absolute_error: 0.1834 - val_loss: 0.0272 - val_mean_absolute_error: 0.1474\n",
      "Epoch 20/50\n",
      "5/5 - 0s - 32ms/step - loss: 0.0442 - mean_absolute_error: 0.1765 - val_loss: 0.0244 - val_mean_absolute_error: 0.1391\n",
      "Epoch 21/50\n",
      "5/5 - 0s - 37ms/step - loss: 0.0409 - mean_absolute_error: 0.1684 - val_loss: 0.0211 - val_mean_absolute_error: 0.1288\n",
      "Epoch 22/50\n",
      "5/5 - 0s - 35ms/step - loss: 0.0384 - mean_absolute_error: 0.1641 - val_loss: 0.0198 - val_mean_absolute_error: 0.1216\n",
      "Epoch 23/50\n",
      "5/5 - 0s - 41ms/step - loss: 0.0339 - mean_absolute_error: 0.1534 - val_loss: 0.0158 - val_mean_absolute_error: 0.1093\n",
      "Epoch 24/50\n",
      "5/5 - 0s - 38ms/step - loss: 0.0309 - mean_absolute_error: 0.1443 - val_loss: 0.0124 - val_mean_absolute_error: 0.0962\n",
      "Epoch 25/50\n",
      "5/5 - 0s - 38ms/step - loss: 0.0272 - mean_absolute_error: 0.1344 - val_loss: 0.0110 - val_mean_absolute_error: 0.0914\n",
      "Epoch 26/50\n",
      "5/5 - 0s - 58ms/step - loss: 0.0242 - mean_absolute_error: 0.1246 - val_loss: 0.0084 - val_mean_absolute_error: 0.0773\n",
      "Epoch 27/50\n",
      "5/5 - 0s - 47ms/step - loss: 0.0211 - mean_absolute_error: 0.1146 - val_loss: 0.0073 - val_mean_absolute_error: 0.0667\n",
      "Epoch 28/50\n",
      "5/5 - 0s - 35ms/step - loss: 0.0196 - mean_absolute_error: 0.1072 - val_loss: 0.0074 - val_mean_absolute_error: 0.0627\n",
      "Epoch 29/50\n",
      "5/5 - 0s - 33ms/step - loss: 0.0178 - mean_absolute_error: 0.1027 - val_loss: 0.0050 - val_mean_absolute_error: 0.0559\n",
      "Epoch 30/50\n",
      "5/5 - 0s - 34ms/step - loss: 0.0171 - mean_absolute_error: 0.1023 - val_loss: 0.0058 - val_mean_absolute_error: 0.0578\n",
      "Epoch 31/50\n",
      "5/5 - 0s - 36ms/step - loss: 0.0175 - mean_absolute_error: 0.1045 - val_loss: 0.0076 - val_mean_absolute_error: 0.0672\n",
      "Epoch 32/50\n",
      "5/5 - 0s - 34ms/step - loss: 0.0166 - mean_absolute_error: 0.1004 - val_loss: 0.0052 - val_mean_absolute_error: 0.0548\n",
      "Epoch 33/50\n",
      "5/5 - 0s - 36ms/step - loss: 0.0172 - mean_absolute_error: 0.1033 - val_loss: 0.0048 - val_mean_absolute_error: 0.0527\n",
      "Epoch 34/50\n",
      "5/5 - 0s - 36ms/step - loss: 0.0172 - mean_absolute_error: 0.1027 - val_loss: 0.0055 - val_mean_absolute_error: 0.0557\n",
      "Epoch 35/50\n",
      "5/5 - 0s - 35ms/step - loss: 0.0173 - mean_absolute_error: 0.1043 - val_loss: 0.0055 - val_mean_absolute_error: 0.0561\n",
      "Epoch 36/50\n",
      "5/5 - 0s - 33ms/step - loss: 0.0167 - mean_absolute_error: 0.1013 - val_loss: 0.0064 - val_mean_absolute_error: 0.0596\n",
      "Epoch 37/50\n",
      "5/5 - 0s - 37ms/step - loss: 0.0167 - mean_absolute_error: 0.1005 - val_loss: 0.0068 - val_mean_absolute_error: 0.0612\n",
      "Epoch 38/50\n",
      "5/5 - 0s - 47ms/step - loss: 0.0164 - mean_absolute_error: 0.0994 - val_loss: 0.0052 - val_mean_absolute_error: 0.0544\n",
      "Epoch 39/50\n",
      "5/5 - 0s - 40ms/step - loss: 0.0170 - mean_absolute_error: 0.1013 - val_loss: 0.0051 - val_mean_absolute_error: 0.0539\n",
      "Epoch 40/50\n",
      "5/5 - 0s - 37ms/step - loss: 0.0164 - mean_absolute_error: 0.1005 - val_loss: 0.0065 - val_mean_absolute_error: 0.0594\n",
      "Epoch 41/50\n",
      "5/5 - 0s - 36ms/step - loss: 0.0172 - mean_absolute_error: 0.1024 - val_loss: 0.0069 - val_mean_absolute_error: 0.0613\n",
      "Epoch 42/50\n",
      "5/5 - 0s - 33ms/step - loss: 0.0161 - mean_absolute_error: 0.1011 - val_loss: 0.0046 - val_mean_absolute_error: 0.0511\n",
      "Epoch 43/50\n",
      "5/5 - 0s - 35ms/step - loss: 0.0176 - mean_absolute_error: 0.1052 - val_loss: 0.0045 - val_mean_absolute_error: 0.0543\n",
      "Epoch 44/50\n",
      "5/5 - 0s - 34ms/step - loss: 0.0171 - mean_absolute_error: 0.1048 - val_loss: 0.0091 - val_mean_absolute_error: 0.0697\n",
      "Epoch 45/50\n",
      "5/5 - 0s - 34ms/step - loss: 0.0169 - mean_absolute_error: 0.0996 - val_loss: 0.0054 - val_mean_absolute_error: 0.0544\n",
      "Epoch 46/50\n",
      "5/5 - 0s - 36ms/step - loss: 0.0162 - mean_absolute_error: 0.1007 - val_loss: 0.0048 - val_mean_absolute_error: 0.0518\n",
      "Epoch 47/50\n",
      "5/5 - 0s - 39ms/step - loss: 0.0172 - mean_absolute_error: 0.1034 - val_loss: 0.0052 - val_mean_absolute_error: 0.0537\n",
      "Epoch 48/50\n",
      "5/5 - 0s - 38ms/step - loss: 0.0170 - mean_absolute_error: 0.1027 - val_loss: 0.0073 - val_mean_absolute_error: 0.0625\n",
      "Epoch 49/50\n",
      "5/5 - 0s - 34ms/step - loss: 0.0166 - mean_absolute_error: 0.1020 - val_loss: 0.0053 - val_mean_absolute_error: 0.0539\n",
      "Epoch 50/50\n",
      "5/5 - 0s - 45ms/step - loss: 0.0160 - mean_absolute_error: 0.1002 - val_loss: 0.0051 - val_mean_absolute_error: 0.0528\n"
     ]
    }
   ],
   "source": [
    "history = model.fit(\n",
    "    X_train, y_train,\n",
    "    validation_data=(X_test, y_test),\n",
    "    epochs=EPOCHS,\n",
    "    batch_size=BATCH_SIZE,\n",
    "    verbose=2\n",
    ")"
   ]
  },
  {
   "cell_type": "code",
   "execution_count": 21,
   "id": "54288f11",
   "metadata": {},
   "outputs": [
    {
     "name": "stdout",
     "output_type": "stream",
     "text": [
      "\n",
      "== Test Set Evaluation ==\n",
      "Test Loss (MSE): 0.005107\n",
      "Test MAE       : 0.052758\n"
     ]
    }
   ],
   "source": [
    "loss, mae = model.evaluate(X_test, y_test, verbose=0)\n",
    "print(f\"\\n== Test Set Evaluation ==\")\n",
    "print(f\"Test Loss (MSE): {loss:.6f}\")\n",
    "print(f\"Test MAE       : {mae:.6f}\")"
   ]
  },
  {
   "cell_type": "code",
   "execution_count": 23,
   "id": "f7248213",
   "metadata": {},
   "outputs": [
    {
     "name": "stdout",
     "output_type": "stream",
     "text": [
      "\n",
      "Model saved to: bilstm_medicine1_model.keras\n"
     ]
    }
   ],
   "source": [
    "model_save_path = 'bilstm_medicine1_model.keras'\n",
    "model.save(model_save_path)\n",
    "print(f\"\\nModel saved to: {model_save_path}\")"
   ]
  },
  {
   "cell_type": "code",
   "execution_count": null,
   "id": "3cb24faa",
   "metadata": {},
   "outputs": [],
   "source": [
    "hist_df = pd.DataFrame(history.history)\n",
    "hist_df.to_csv('training_history_bilstm_medicine1.csv', index=False)\n",
    "print(\"Training history saved to: training_history_bilstm_medicine1.csv\")"
   ]
  }
 ],
 "metadata": {
  "kernelspec": {
   "display_name": "ml_venv",
   "language": "python",
   "name": "python3"
  },
  "language_info": {
   "codemirror_mode": {
    "name": "ipython",
    "version": 3
   },
   "file_extension": ".py",
   "mimetype": "text/x-python",
   "name": "python",
   "nbconvert_exporter": "python",
   "pygments_lexer": "ipython3",
   "version": "3.12.0"
  }
 },
 "nbformat": 4,
 "nbformat_minor": 5
}
