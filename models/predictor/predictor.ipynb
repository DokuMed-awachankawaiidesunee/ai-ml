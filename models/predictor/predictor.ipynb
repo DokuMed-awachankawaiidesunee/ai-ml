{
 "cells": [
  {
   "cell_type": "code",
   "execution_count": 1,
   "id": "a161c3fe",
   "metadata": {},
   "outputs": [],
   "source": [
    "import pandas as pd\n",
    "import xgboost as xgb\n",
    "from sklearn.model_selection import TimeSeriesSplit\n",
    "from sklearn.metrics import mean_absolute_error\n",
    "import numpy as np"
   ]
  },
  {
   "cell_type": "code",
   "execution_count": 2,
   "id": "bccfe64b",
   "metadata": {},
   "outputs": [],
   "source": [
    "df_train = pd.read_csv('../data/medicine_monthly_sales_train.csv')"
   ]
  },
  {
   "cell_type": "code",
   "execution_count": 3,
   "id": "64401bba",
   "metadata": {},
   "outputs": [],
   "source": [
    "df_train['Year-Month'] = pd.to_datetime(df_train['Year-Month'], format='%Y-%m')\n",
    "df_train = df_train.sort_values(['Code', 'Province', 'Year-Month']).reset_index(drop=True)"
   ]
  },
  {
   "cell_type": "code",
   "execution_count": 4,
   "id": "fe8c9ab6",
   "metadata": {},
   "outputs": [],
   "source": [
    "def create_lags(group):\n",
    "    group = group.copy()\n",
    "    group['lag_1'] = group['Sales'].shift(1)\n",
    "    group['lag_3'] = group['Sales'].shift(3)\n",
    "    group['lag_6'] = group['Sales'].shift(6)\n",
    "    group['lag_12'] = group['Sales'].shift(12)\n",
    "    return group"
   ]
  },
  {
   "cell_type": "code",
   "execution_count": 5,
   "id": "3dbe556e",
   "metadata": {},
   "outputs": [],
   "source": [
    "df_train = df_train.groupby(['Code', 'Province']).apply(create_lags, include_groups=False).reset_index(drop=True)\n",
    "df_train = df_train.dropna(subset=['lag_1', 'lag_3', 'lag_6', 'lag_12'])"
   ]
  },
  {
   "cell_type": "code",
   "execution_count": 6,
   "id": "43b655cf",
   "metadata": {},
   "outputs": [],
   "source": [
    "df_train['month'] = df_train['Year-Month'].dt.month\n",
    "df_train['year']  = df_train['Year-Month'].dt.year\n",
    "df_train = pd.get_dummies(df_train, columns=['month'], prefix='m')"
   ]
  },
  {
   "cell_type": "code",
   "execution_count": 7,
   "id": "04598fc0",
   "metadata": {},
   "outputs": [],
   "source": [
    "feature_cols = [c for c in df_train.columns if c.startswith('lag_') or c.startswith('m_')]\n",
    "X_intermediate = df_train[feature_cols]"
   ]
  },
  {
   "cell_type": "code",
   "execution_count": 8,
   "id": "6e7d5da4",
   "metadata": {},
   "outputs": [
    {
     "name": "stdout",
     "output_type": "stream",
     "text": [
      "X columns (no duplicates found initially): ['lag_1', 'lag_3', 'lag_6', 'lag_12', 'm_1', 'm_2', 'm_3', 'm_4', 'm_5', 'm_6', 'm_7', 'm_8', 'm_9', 'm_10', 'm_11', 'm_12']\n"
     ]
    }
   ],
   "source": [
    "if X_intermediate.columns.has_duplicates:\n",
    "    print(f\"Original X_intermediate columns (may have duplicates): {X_intermediate.columns.tolist()}\")\n",
    "    X = X_intermediate.loc[:, ~X_intermediate.columns.duplicated(keep='first')]\n",
    "    print(f\"X columns after deduplication: {X.columns.tolist()}\")\n",
    "else:\n",
    "    X = X_intermediate\n",
    "    print(f\"X columns (no duplicates found initially): {X.columns.tolist()}\")"
   ]
  },
  {
   "cell_type": "code",
   "execution_count": 9,
   "id": "ac5dde56",
   "metadata": {},
   "outputs": [],
   "source": [
    "y = df_train['Sales']\n",
    "tscv = TimeSeriesSplit(n_splits=10)\n",
    "mae_scores = []"
   ]
  },
  {
   "cell_type": "code",
   "execution_count": 10,
   "id": "827c977c",
   "metadata": {},
   "outputs": [
    {
     "name": "stdout",
     "output_type": "stream",
     "text": [
      "Fold 1 - Bool columns found in X_train: ['m_1', 'm_2', 'm_3', 'm_4', 'm_5', 'm_6', 'm_7', 'm_8', 'm_9', 'm_10', 'm_11', 'm_12']\n",
      "Fold 1 - X_train dtypes after bool conversion:\n",
      "int8       12\n",
      "float64     4\n",
      "Name: count, dtype: int64\n",
      "\n",
      "--- Fold 1 ---\n",
      "[0]\ttrain-mae:224.73434\ttest-mae:229.41003\n",
      "[69]\ttrain-mae:223.59900\ttest-mae:229.43551\n",
      "Fold 1 - Best Iteration: 19, Best Test MAE during training: 229.4024\n",
      "Fold 1 Final MAE (on best iteration): 229.4024\n",
      "Fold 2 - Bool columns found in X_train: ['m_1', 'm_2', 'm_3', 'm_4', 'm_5', 'm_6', 'm_7', 'm_8', 'm_9', 'm_10', 'm_11', 'm_12']\n",
      "Fold 2 - X_train dtypes after bool conversion:\n",
      "int8       12\n",
      "float64     4\n",
      "Name: count, dtype: int64\n",
      "\n",
      "--- Fold 2 ---\n",
      "[0]\ttrain-mae:227.04580\ttest-mae:227.80126\n",
      "[162]\ttrain-mae:225.44950\ttest-mae:227.76679\n",
      "Fold 2 - Best Iteration: 112, Best Test MAE during training: 227.7567\n",
      "Fold 2 Final MAE (on best iteration): 227.7567\n",
      "Fold 3 - Bool columns found in X_train: ['m_1', 'm_2', 'm_3', 'm_4', 'm_5', 'm_6', 'm_7', 'm_8', 'm_9', 'm_10', 'm_11', 'm_12']\n",
      "Fold 3 - X_train dtypes after bool conversion:\n",
      "int8       12\n",
      "float64     4\n",
      "Name: count, dtype: int64\n",
      "\n",
      "--- Fold 3 ---\n",
      "[0]\ttrain-mae:227.29852\ttest-mae:226.73364\n",
      "[109]\ttrain-mae:226.42103\ttest-mae:226.74041\n",
      "Fold 3 - Best Iteration: 59, Best Test MAE during training: 226.7172\n",
      "Fold 3 Final MAE (on best iteration): 226.7172\n",
      "Fold 4 - Bool columns found in X_train: ['m_1', 'm_2', 'm_3', 'm_4', 'm_5', 'm_6', 'm_7', 'm_8', 'm_9', 'm_10', 'm_11', 'm_12']\n",
      "Fold 4 - X_train dtypes after bool conversion:\n",
      "int8       12\n",
      "float64     4\n",
      "Name: count, dtype: int64\n",
      "\n",
      "--- Fold 4 ---\n",
      "[0]\ttrain-mae:227.11301\ttest-mae:220.20991\n",
      "[105]\ttrain-mae:226.48585\ttest-mae:220.19805\n",
      "Fold 4 - Best Iteration: 55, Best Test MAE during training: 220.1957\n",
      "Fold 4 Final MAE (on best iteration): 220.1957\n",
      "Fold 5 - Bool columns found in X_train: ['m_1', 'm_2', 'm_3', 'm_4', 'm_5', 'm_6', 'm_7', 'm_8', 'm_9', 'm_10', 'm_11', 'm_12']\n",
      "Fold 5 - X_train dtypes after bool conversion:\n",
      "int8       12\n",
      "float64     4\n",
      "Name: count, dtype: int64\n",
      "\n",
      "--- Fold 5 ---\n",
      "[0]\ttrain-mae:225.71947\ttest-mae:222.61331\n",
      "[200]\ttrain-mae:224.74651\ttest-mae:222.55458\n",
      "[400]\ttrain-mae:223.83478\ttest-mae:222.51553\n",
      "[458]\ttrain-mae:223.56966\ttest-mae:222.51563\n",
      "Fold 5 - Best Iteration: 409, Best Test MAE during training: 222.5094\n",
      "Fold 5 Final MAE (on best iteration): 222.5094\n",
      "Fold 6 - Bool columns found in X_train: ['m_1', 'm_2', 'm_3', 'm_4', 'm_5', 'm_6', 'm_7', 'm_8', 'm_9', 'm_10', 'm_11', 'm_12']\n",
      "Fold 6 - X_train dtypes after bool conversion:\n",
      "int8       12\n",
      "float64     4\n",
      "Name: count, dtype: int64\n",
      "\n",
      "--- Fold 6 ---\n",
      "[0]\ttrain-mae:225.20493\ttest-mae:223.42036\n",
      "[122]\ttrain-mae:224.69973\ttest-mae:223.40983\n",
      "Fold 6 - Best Iteration: 72, Best Test MAE during training: 223.4034\n",
      "Fold 6 Final MAE (on best iteration): 223.4034\n",
      "Fold 7 - Bool columns found in X_train: ['m_1', 'm_2', 'm_3', 'm_4', 'm_5', 'm_6', 'm_7', 'm_8', 'm_9', 'm_10', 'm_11', 'm_12']\n",
      "Fold 7 - X_train dtypes after bool conversion:\n",
      "int8       12\n",
      "float64     4\n",
      "Name: count, dtype: int64\n",
      "\n",
      "--- Fold 7 ---\n",
      "[0]\ttrain-mae:224.95073\ttest-mae:232.78256\n",
      "[200]\ttrain-mae:224.23374\ttest-mae:232.71122\n",
      "[366]\ttrain-mae:223.66564\ttest-mae:232.70522\n",
      "Fold 7 - Best Iteration: 317, Best Test MAE during training: 232.6926\n",
      "Fold 7 Final MAE (on best iteration): 232.6926\n",
      "Fold 8 - Bool columns found in X_train: ['m_1', 'm_2', 'm_3', 'm_4', 'm_5', 'm_6', 'm_7', 'm_8', 'm_9', 'm_10', 'm_11', 'm_12']\n",
      "Fold 8 - X_train dtypes after bool conversion:\n",
      "int8       12\n",
      "float64     4\n",
      "Name: count, dtype: int64\n",
      "\n",
      "--- Fold 8 ---\n",
      "[0]\ttrain-mae:225.92207\ttest-mae:228.25216\n",
      "[57]\ttrain-mae:225.72617\ttest-mae:228.24994\n",
      "Fold 8 - Best Iteration: 8, Best Test MAE during training: 228.2474\n",
      "Fold 8 Final MAE (on best iteration): 228.2474\n",
      "Fold 9 - Bool columns found in X_train: ['m_1', 'm_2', 'm_3', 'm_4', 'm_5', 'm_6', 'm_7', 'm_8', 'm_9', 'm_10', 'm_11', 'm_12']\n",
      "Fold 9 - X_train dtypes after bool conversion:\n",
      "int8       12\n",
      "float64     4\n",
      "Name: count, dtype: int64\n",
      "\n",
      "--- Fold 9 ---\n",
      "[0]\ttrain-mae:226.17741\ttest-mae:225.48155\n",
      "[53]\ttrain-mae:226.01112\ttest-mae:225.48859\n",
      "Fold 9 - Best Iteration: 4, Best Test MAE during training: 225.4793\n",
      "Fold 9 Final MAE (on best iteration): 225.4793\n",
      "Fold 10 - Bool columns found in X_train: ['m_1', 'm_2', 'm_3', 'm_4', 'm_5', 'm_6', 'm_7', 'm_8', 'm_9', 'm_10', 'm_11', 'm_12']\n",
      "Fold 10 - X_train dtypes after bool conversion:\n",
      "int8       12\n",
      "float64     4\n",
      "Name: count, dtype: int64\n",
      "\n",
      "--- Fold 10 ---\n",
      "[0]\ttrain-mae:226.10954\ttest-mae:226.58455\n",
      "[56]\ttrain-mae:225.95097\ttest-mae:226.58441\n",
      "Fold 10 - Best Iteration: 6, Best Test MAE during training: 226.5791\n",
      "Fold 10 Final MAE (on best iteration): 226.5791\n",
      "\n",
      "Mean MAE across folds: 226.2983\n",
      "Std Dev MAE across folds: 3.4256\n"
     ]
    }
   ],
   "source": [
    "for fold, (train_idx, test_idx) in enumerate(tscv.split(X), 1):\n",
    "    X_train_orig, X_test_orig = X.iloc[train_idx], X.iloc[test_idx]\n",
    "    y_train, y_test = y.iloc[train_idx], y.iloc[test_idx]\n",
    "\n",
    "    X_train = X_train_orig.copy()\n",
    "    X_test = X_test_orig.copy()\n",
    "\n",
    "    bool_cols = X_train.select_dtypes(include=bool).columns\n",
    "    if len(bool_cols) > 0:\n",
    "        print(f\"Fold {fold} - Bool columns found in X_train: {list(bool_cols)}\")\n",
    "        X_train[bool_cols] = X_train[bool_cols].astype(np.int8)\n",
    "        X_test[bool_cols] = X_test[bool_cols].astype(np.int8)\n",
    "        print(f\"Fold {fold} - X_train dtypes after bool conversion:\\n{X_train.dtypes.value_counts()}\")\n",
    "    else:\n",
    "        print(f\"Fold {fold} - No bool columns found in X_train.\")\n",
    "\n",
    "\n",
    "    dtrain = xgb.DMatrix(X_train, label=y_train)\n",
    "    dtest  = xgb.DMatrix(X_test,  label=y_test)\n",
    "    \n",
    "    params = {\n",
    "        'objective':        'reg:squarederror',\n",
    "        'eval_metric':      'mae',              \n",
    "        'tree_method':      'hist',             \n",
    "        'device':           'cuda',             \n",
    "        'learning_rate':    0.001,              \n",
    "        'max_depth':        5,                  \n",
    "        'subsample':        0.7,                \n",
    "        'colsample_bytree': 0.7,                \n",
    "        'lambda':           1,                  \n",
    "        'alpha':            0.1,                \n",
    "        'min_child_weight': 1,                  \n",
    "        'seed':             42\n",
    "    }\n",
    "    \n",
    "    print(f\"\\n--- Fold {fold} ---\")\n",
    "    bst = xgb.train(\n",
    "        params,\n",
    "        dtrain,\n",
    "        num_boost_round=1500, \n",
    "        evals=[(dtrain, 'train'), (dtest, 'test')],\n",
    "        early_stopping_rounds=50,   \n",
    "        verbose_eval=200 \n",
    "    )\n",
    "    \n",
    "    best_iteration = bst.best_iteration\n",
    "    best_mae = bst.best_score \n",
    "\n",
    "    print(f\"Fold {fold} - Best Iteration: {best_iteration}, Best Test MAE during training: {best_mae:.4f}\")\n",
    "    \n",
    "    preds = bst.predict(dtest, iteration_range=(0, bst.best_iteration + 1))\n",
    "    mae_fold = mean_absolute_error(y_test, preds)\n",
    "    mae_scores.append(mae_fold)\n",
    "    print(f'Fold {fold} Final MAE (on best iteration): {mae_fold:.4f}')\n",
    "\n",
    "print(f'\\nMean MAE across folds: {np.mean(mae_scores):.4f}')\n",
    "print(f'Std Dev MAE across folds: {np.std(mae_scores):.4f}')"
   ]
  },
  {
   "cell_type": "code",
   "execution_count": 11,
   "id": "9367baf2",
   "metadata": {},
   "outputs": [],
   "source": [
    "dall = xgb.DMatrix(X, label=y)\n",
    "final_model = xgb.train(params, dall, num_boost_round=bst.best_iteration)"
   ]
  },
  {
   "cell_type": "code",
   "execution_count": 13,
   "id": "a3e146d9",
   "metadata": {},
   "outputs": [],
   "source": [
    "final_model.save_model('xgb_medicine_sales_final.json')"
   ]
  },
  {
   "cell_type": "code",
   "execution_count": null,
   "id": "347e25b1",
   "metadata": {},
   "outputs": [],
   "source": []
  }
 ],
 "metadata": {
  "kernelspec": {
   "display_name": "ml_venv",
   "language": "python",
   "name": "python3"
  },
  "language_info": {
   "codemirror_mode": {
    "name": "ipython",
    "version": 3
   },
   "file_extension": ".py",
   "mimetype": "text/x-python",
   "name": "python",
   "nbconvert_exporter": "python",
   "pygments_lexer": "ipython3",
   "version": "3.12.0"
  }
 },
 "nbformat": 4,
 "nbformat_minor": 5
}
